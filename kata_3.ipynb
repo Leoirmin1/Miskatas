{
 "cells": [
  {
   "cell_type": "markdown",
   "metadata": {},
   "source": [
    "# Ejercicios de logica booleana"
   ]
  },
  {
   "cell_type": "markdown",
   "metadata": {},
   "source": [
    "<h3> Ejercicio - Escribir declaraciones if, else y elif </h3>\n",
    "\n",
    "Un asteroide se acerca y viaja a una velocidad de 49 km/s"
   ]
  },
  {
   "cell_type": "code",
   "execution_count": 2,
   "metadata": {},
   "outputs": [
    {
     "name": "stdout",
     "output_type": "stream",
     "text": [
      "ADVERTENCIA!! Un asteroide se aproxima rapidamente\n"
     ]
    }
   ],
   "source": [
    "vel_asteroid = 49\n",
    "\n",
    "if (vel_asteroid > 25):\n",
    "    print(\"ADVERTENCIA!! Un asteroide se aproxima rapidamente\")\n",
    "else:\n",
    "    print(\"El asteroide no tiene suficiente velocidad\")"
   ]
  },
  {
   "cell_type": "markdown",
   "metadata": {},
   "source": [
    "Se agrega si se puede ver"
   ]
  },
  {
   "cell_type": "code",
   "execution_count": 4,
   "metadata": {},
   "outputs": [
    {
     "name": "stdout",
     "output_type": "stream",
     "text": [
      "El asteroide no tiene suficiente velocidad y no es visible desde la tierra\n"
     ]
    }
   ],
   "source": [
    "vel_asteroid = 19\n",
    "\n",
    "if (vel_asteroid > 25):\n",
    "    print(\"ADVERTENCIA!! Un asteroide se aproxima rapidamente\")\n",
    "elif (vel_asteroid >= 20):\n",
    "    print(\"El asteroide no tiene tanta velocidad pero se puede ver un rayo de luz\")\n",
    "else:\n",
    "    print(\"El asteroide no tiene suficiente velocidad y no es visible desde la tierra\")"
   ]
  },
  {
   "cell_type": "markdown",
   "metadata": {},
   "source": [
    "<h3> Ejercicio: Uso de operadores \"and\" y \"or\" </h3>"
   ]
  },
  {
   "cell_type": "code",
   "execution_count": 7,
   "metadata": {},
   "outputs": [
    {
     "name": "stdout",
     "output_type": "stream",
     "text": [
      "ADVERTENCIA!!!!!! Este podria ser el fin de todos.\n"
     ]
    }
   ],
   "source": [
    "size_asteroid = 1001\n",
    "vel_asteroid = 26\n",
    "\n",
    "if (size_asteroid > 25 and size_asteroid < 1000):\n",
    "    if (vel_asteroid > 25):\n",
    "        print(\"ADVERTENCIA!!! Un gran asteroide se aproxima rapidamente.\")\n",
    "    elif (vel_asteroid >= 20):\n",
    "        print(\"Un gran asteroide se puede observar desde la tierra.\")\n",
    "    else:\n",
    "        print(\"No hay nada de que temer\")\n",
    "elif (size_asteroid < 25):\n",
    "        print(\"No hay nada de que temer\")\n",
    "else:\n",
    "    if (vel_asteroid > 25):\n",
    "        print(\"ADVERTENCIA!!!!!! Este podria ser el fin de todos.\")\n",
    "    elif (vel_asteroid >= 20):\n",
    "        print(\"Un mega asteroide se puede observar desde la tierra.\")\n",
    "    else:\n",
    "        print(\"No hay nada de que temer\")\n"
   ]
  }
 ],
 "metadata": {
  "interpreter": {
   "hash": "dc59f55dd05835c2c9e13747be2bafad6bf786209b30b918eca7a91614205c67"
  },
  "kernelspec": {
   "display_name": "Python 3.9.6 64-bit",
   "language": "python",
   "name": "python3"
  },
  "language_info": {
   "codemirror_mode": {
    "name": "ipython",
    "version": 3
   },
   "file_extension": ".py",
   "mimetype": "text/x-python",
   "name": "python",
   "nbconvert_exporter": "python",
   "pygments_lexer": "ipython3",
   "version": "3.9.6"
  },
  "orig_nbformat": 4
 },
 "nbformat": 4,
 "nbformat_minor": 2
}
