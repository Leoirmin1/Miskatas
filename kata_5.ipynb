{
 "cells": [
  {
   "cell_type": "markdown",
   "metadata": {},
   "source": [
    "## Ejercicios de operadores aritmeticos"
   ]
  },
  {
   "cell_type": "markdown",
   "metadata": {},
   "source": [
    "<h3> Ejercicio 1 </h3>"
   ]
  },
  {
   "cell_type": "code",
   "execution_count": 7,
   "metadata": {},
   "outputs": [
    {
     "name": "stdout",
     "output_type": "stream",
     "text": [
      "La distancia en kilometros es: 628949330 km\n",
      "La distancia en millas es: 390577534 millas\n"
     ]
    }
   ],
   "source": [
    "dist1 = 149597870\n",
    "dist2 = 778547200\n",
    "\n",
    "dist_t = abs(dist1 - dist2)\n",
    "print('La distancia en kilometros es: {dist} km'.format(dist = dist_t))\n",
    "print('La distancia en millas es: {dist} millas'.format(dist = round(0.621 * dist_t)))"
   ]
  },
  {
   "cell_type": "markdown",
   "metadata": {},
   "source": [
    "<h3> Ejercicio 2 </h3>"
   ]
  },
  {
   "cell_type": "code",
   "execution_count": 10,
   "metadata": {},
   "outputs": [
    {
     "name": "stdout",
     "output_type": "stream",
     "text": [
      "50300000\n",
      "31236300.0\n"
     ]
    }
   ],
   "source": [
    "planeta1 = int(input(\"¿Cuál es la primera distancia?\"))\n",
    "planeta2 = int(input(\"¿Cuál es la segunda distancia?\"))\n",
    "\n",
    "dist_km = abs(planeta1 - planeta2)\n",
    "print(dist_km)\n",
    "dist_mi = abs(planeta1 - planeta2) * 0.621\n",
    "print(dist_mi)"
   ]
  }
 ],
 "metadata": {
  "interpreter": {
   "hash": "dc59f55dd05835c2c9e13747be2bafad6bf786209b30b918eca7a91614205c67"
  },
  "kernelspec": {
   "display_name": "Python 3.9.6 64-bit",
   "language": "python",
   "name": "python3"
  },
  "language_info": {
   "codemirror_mode": {
    "name": "ipython",
    "version": 3
   },
   "file_extension": ".py",
   "mimetype": "text/x-python",
   "name": "python",
   "nbconvert_exporter": "python",
   "pygments_lexer": "ipython3",
   "version": "3.9.6"
  },
  "orig_nbformat": 4
 },
 "nbformat": 4,
 "nbformat_minor": 2
}
