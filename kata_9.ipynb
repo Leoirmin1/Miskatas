{
 "cells": [
  {
   "cell_type": "markdown",
   "metadata": {},
   "source": [
    "# Ejercicio 1: Trabajar con argumentos en funciones"
   ]
  },
  {
   "cell_type": "code",
   "execution_count": 17,
   "metadata": {},
   "outputs": [
    {
     "name": "stdout",
     "output_type": "stream",
     "text": [
      "\n",
      "    El tanque 1 contiene : 11\n",
      "    El tanque 2 contiene : 25\n",
      "    El tanque 3 contiene : 3\n",
      "    El promedio de combustible es: 13.0\n",
      "    \n"
     ]
    }
   ],
   "source": [
    "def reporte_tanques(tanque1,tanque2,tanque3):\n",
    "    prom = (tanque1 + tanque2 + tanque3) / 3\n",
    "    print(\"\"\"\n",
    "    El tanque 1 contiene : {tanq1}\n",
    "    El tanque 2 contiene : {tanq2}\n",
    "    El tanque 3 contiene : {tanq3}\n",
    "    El promedio de combustible es: {pr}\n",
    "    \"\"\".format(tanq1 = tanque1,tanq2 = tanque2,tanq3 = tanque3, pr = prom))\n",
    "\n",
    "reporte_tanques(11,25,3)\n"
   ]
  },
  {
   "cell_type": "code",
   "execution_count": 12,
   "metadata": {},
   "outputs": [],
   "source": [
    "def promedio(valores):\n",
    "    return sum(valores) / len(valores)\n"
   ]
  },
  {
   "cell_type": "code",
   "execution_count": 16,
   "metadata": {},
   "outputs": [
    {
     "name": "stdout",
     "output_type": "stream",
     "text": [
      "\n",
      "    El tanque 1 contiene : 88\n",
      "    El tanque 2 contiene : 76\n",
      "    El tanque 3 contiene : 70\n",
      "    El promedio de combustible es: 78.0\n",
      "    \n"
     ]
    }
   ],
   "source": [
    "def reporte_tanques(tanque1,tanque2,tanque3):\n",
    "    prom = promedio([tanque1,tanque2,tanque3])\n",
    "    print(\"\"\"\n",
    "    El tanque 1 contiene : {tanq1}\n",
    "    El tanque 2 contiene : {tanq2}\n",
    "    El tanque 3 contiene : {tanq3}\n",
    "    El promedio de combustible es: {pr}\n",
    "    \"\"\".format(tanq1 = tanque1,tanq2 = tanque2,tanq3 = tanque3, pr = prom))\n",
    "\n",
    "reporte_tanques(88, 76, 70)"
   ]
  },
  {
   "cell_type": "markdown",
   "metadata": {},
   "source": [
    "# Ejercicio 2: Trabajo con argumentos de palabra clave"
   ]
  },
  {
   "cell_type": "code",
   "execution_count": 21,
   "metadata": {},
   "outputs": [
    {
     "name": "stdout",
     "output_type": "stream",
     "text": [
      "\n",
      "    El destino es Moon\n",
      "    El tiempo en llegar sera de 14 minutos\n",
      "    El combustible que se tiene es de 200000 litros\n",
      "    \n"
     ]
    }
   ],
   "source": [
    "def reporte_cohete(tiempo,destino,combustible):\n",
    "    print(\"\"\"\n",
    "    El destino es {dest}\n",
    "    El tiempo en llegar sera de {min} minutos\n",
    "    El combustible que se tiene es de {fuel} litros\n",
    "    \"\"\".format(dest = destino,min = tiempo,fuel = combustible))\n",
    "\n",
    "reporte_cohete(14, \"Moon\", 200000)"
   ]
  },
  {
   "cell_type": "code",
   "execution_count": 23,
   "metadata": {},
   "outputs": [
    {
     "name": "stdout",
     "output_type": "stream",
     "text": [
      "\n",
      "    El destino es Moon\n",
      "    El tiempo en llegar sera de 76 minutos\n",
      "    El combustible que se tiene es de 500000 litros\n",
      "    \n",
      "None\n"
     ]
    }
   ],
   "source": [
    "def reporte_cohete(destino,*minutos,**reservas):\n",
    "    print(f\"\"\"\n",
    "    El destino es {destino}\n",
    "    El tiempo en llegar sera de {sum(minutos)} minutos\n",
    "    El combustible que se tiene es de {sum(reservas.values())} litros\n",
    "    \"\"\")\n",
    "\n",
    "print(reporte_cohete(\"Moon\", 10, 15, 51, main=300000, external=200000))"
   ]
  },
  {
   "cell_type": "code",
   "execution_count": 24,
   "metadata": {},
   "outputs": [
    {
     "name": "stdout",
     "output_type": "stream",
     "text": [
      "\n",
      "    El destino es Moon\n",
      "    El tiempo en llegar sera de 76 minutos\n",
      "    El combustible que se tiene es de 500000 litros\n",
      "    main contiene 300000 litros \n",
      "external contiene 200000 litros \n",
      "\n"
     ]
    }
   ],
   "source": [
    "def reporte_cohete(destino,*minutos,**reservas):\n",
    "    reporte = f\"\"\"\n",
    "    El destino es {destino}\n",
    "    El tiempo en llegar sera de {sum(minutos)} minutos\n",
    "    El combustible que se tiene es de {sum(reservas.values())} litros\n",
    "    \"\"\"\n",
    "    for name_tan,fuel in reservas.items():\n",
    "        reporte += f\"{name_tan} contiene {fuel} litros \\n\"\n",
    "    return reporte\n",
    "\n",
    "\n",
    "print(reporte_cohete(\"Moon\", 10, 15, 51, main=300000, external=200000))"
   ]
  }
 ],
 "metadata": {
  "interpreter": {
   "hash": "dc59f55dd05835c2c9e13747be2bafad6bf786209b30b918eca7a91614205c67"
  },
  "kernelspec": {
   "display_name": "Python 3.9.6 64-bit",
   "language": "python",
   "name": "python3"
  },
  "language_info": {
   "codemirror_mode": {
    "name": "ipython",
    "version": 3
   },
   "file_extension": ".py",
   "mimetype": "text/x-python",
   "name": "python",
   "nbconvert_exporter": "python",
   "pygments_lexer": "ipython3",
   "version": "3.9.6"
  },
  "orig_nbformat": 4
 },
 "nbformat": 4,
 "nbformat_minor": 2
}
